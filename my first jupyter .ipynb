{
 "cells": [
  {
   "cell_type": "code",
   "execution_count": null,
   "id": "4ba70714",
   "metadata": {},
   "outputs": [],
   "source": []
  },
  {
   "cell_type": "code",
   "execution_count": 2,
   "id": "6f17e6e0",
   "metadata": {},
   "outputs": [
    {
     "name": "stdout",
     "output_type": "stream",
     "text": [
      "Hello World my batch id is DSG0823\n"
     ]
    }
   ],
   "source": [
    "print(\"Hello World my batch id is DSG0823\")"
   ]
  },
  {
   "cell_type": "code",
   "execution_count": null,
   "id": "a82c90eb",
   "metadata": {},
   "outputs": [],
   "source": []
  },
  {
   "cell_type": "code",
   "execution_count": 3,
   "id": "7b62398a",
   "metadata": {},
   "outputs": [
    {
     "name": "stdout",
     "output_type": "stream",
     "text": [
      "my name is Shubhnkar Vishwakra\n"
     ]
    }
   ],
   "source": [
    "print(\"my name is Shubhnkar Vishwakra\")"
   ]
  },
  {
   "cell_type": "code",
   "execution_count": 4,
   "id": "8f741c41",
   "metadata": {},
   "outputs": [
    {
     "data": {
      "text/plain": [
       "125"
      ]
     },
     "execution_count": 4,
     "metadata": {},
     "output_type": "execute_result"
    }
   ],
   "source": [
    "25*5"
   ]
  },
  {
   "cell_type": "code",
   "execution_count": 9,
   "id": "155583ee",
   "metadata": {},
   "outputs": [
    {
     "data": {
      "text/plain": [
       "180.66666666666666"
      ]
     },
     "execution_count": 9,
     "metadata": {},
     "output_type": "execute_result"
    }
   ],
   "source": [
    "542/3"
   ]
  },
  {
   "cell_type": "code",
   "execution_count": 10,
   "id": "888ccec7",
   "metadata": {},
   "outputs": [
    {
     "data": {
      "text/plain": [
       "909.0"
      ]
     },
     "execution_count": 10,
     "metadata": {},
     "output_type": "execute_result"
    }
   ],
   "source": [
    "4545/5\n",
    "\n"
   ]
  },
  {
   "cell_type": "code",
   "execution_count": null,
   "id": "6a67a3b4",
   "metadata": {},
   "outputs": [],
   "source": []
  },
  {
   "cell_type": "code",
   "execution_count": null,
   "id": "e59a4875",
   "metadata": {},
   "outputs": [],
   "source": []
  }
 ],
 "metadata": {
  "kernelspec": {
   "display_name": "Python 3 (ipykernel)",
   "language": "python",
   "name": "python3"
  },
  "language_info": {
   "codemirror_mode": {
    "name": "ipython",
    "version": 3
   },
   "file_extension": ".py",
   "mimetype": "text/x-python",
   "name": "python",
   "nbconvert_exporter": "python",
   "pygments_lexer": "ipython3",
   "version": "3.11.4"
  }
 },
 "nbformat": 4,
 "nbformat_minor": 5
}
